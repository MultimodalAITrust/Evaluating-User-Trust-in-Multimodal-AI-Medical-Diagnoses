{
 "cells": [
  {
   "cell_type": "code",
   "execution_count": 1,
   "id": "9f3a8c01",
   "metadata": {},
   "outputs": [
    {
     "name": "stderr",
     "output_type": "stream",
     "text": [
      "/Users/Patron/Library/Python/3.9/lib/python/site-packages/urllib3/__init__.py:35: NotOpenSSLWarning: urllib3 v2 only supports OpenSSL 1.1.1+, currently the 'ssl' module is compiled with 'LibreSSL 2.8.3'. See: https://github.com/urllib3/urllib3/issues/3020\n",
      "  warnings.warn(\n",
      "/Users/Patron/Library/Python/3.9/lib/python/site-packages/tqdm/auto.py:21: TqdmWarning: IProgress not found. Please update jupyter and ipywidgets. See https://ipywidgets.readthedocs.io/en/stable/user_install.html\n",
      "  from .autonotebook import tqdm as notebook_tqdm\n",
      "Fetching 2 files: 100%|██████████| 2/2 [00:14<00:00,  7.32s/it]\n",
      "Loading checkpoint shards: 100%|██████████| 2/2 [00:04<00:00,  2.30s/it]\n"
     ]
    },
    {
     "data": {
      "text/plain": [
       "Qwen3ForCausalLM(\n",
       "  (model): Qwen3Model(\n",
       "    (embed_tokens): Embedding(151936, 2048)\n",
       "    (layers): ModuleList(\n",
       "      (0-27): 28 x Qwen3DecoderLayer(\n",
       "        (self_attn): Qwen3Attention(\n",
       "          (q_proj): Linear(in_features=2048, out_features=2048, bias=False)\n",
       "          (k_proj): Linear(in_features=2048, out_features=1024, bias=False)\n",
       "          (v_proj): Linear(in_features=2048, out_features=1024, bias=False)\n",
       "          (o_proj): Linear(in_features=2048, out_features=2048, bias=False)\n",
       "          (q_norm): Qwen3RMSNorm((128,), eps=1e-06)\n",
       "          (k_norm): Qwen3RMSNorm((128,), eps=1e-06)\n",
       "        )\n",
       "        (mlp): Qwen3MLP(\n",
       "          (gate_proj): Linear(in_features=2048, out_features=6144, bias=False)\n",
       "          (up_proj): Linear(in_features=2048, out_features=6144, bias=False)\n",
       "          (down_proj): Linear(in_features=6144, out_features=2048, bias=False)\n",
       "          (act_fn): SiLU()\n",
       "        )\n",
       "        (input_layernorm): Qwen3RMSNorm((2048,), eps=1e-06)\n",
       "        (post_attention_layernorm): Qwen3RMSNorm((2048,), eps=1e-06)\n",
       "      )\n",
       "    )\n",
       "    (norm): Qwen3RMSNorm((2048,), eps=1e-06)\n",
       "    (rotary_emb): Qwen3RotaryEmbedding()\n",
       "  )\n",
       "  (lm_head): Linear(in_features=2048, out_features=151936, bias=False)\n",
       ")"
      ]
     },
     "execution_count": 1,
     "metadata": {},
     "output_type": "execute_result"
    }
   ],
   "source": [
    "import torch\n",
    "from transformers import AutoTokenizer, AutoModelForCausalLM\n",
    "\n",
    "device = \"mps\" if torch.backends.mps.is_available() else \"cpu\"\n",
    "dtype = torch.float16 if device == \"mps\" else torch.float32\n",
    "\n",
    "model_name = \"Qwen/Qwen3-1.7B\"\n",
    "\n",
    "# load the tokenizer and the model\n",
    "tokenizer = AutoTokenizer.from_pretrained(model_name)\n",
    "model = AutoModelForCausalLM.from_pretrained(\n",
    "    model_name,\n",
    "    torch_dtype=dtype,\n",
    ")\n",
    "model.to(device)\n",
    "model.eval()"
   ]
  },
  {
   "cell_type": "code",
   "execution_count": 6,
   "id": "27e99ea5",
   "metadata": {},
   "outputs": [
    {
     "name": "stdout",
     "output_type": "stream",
     "text": [
      "Anemia is a medical condition in which the blood does not carry enough oxygen to the body's tissues. This can happen for a variety of reasons, and the causes can be classified into several categories:\n",
      "\n",
      "---\n",
      "\n",
      "### **1. Causes of Anemia**\n",
      "\n",
      "#### **(a) Blood Loss**\n",
      "- **Gastrointestinal (GI) bleeding**: Bleeding in the stomach, intestines, or rectum (e.g., from ulcers, diverticulitis, or hemorrhoids).\n",
      "- **Urogenital bleeding**: Bleeding from the bladder, urethra, or vagina (e.g., from infections, tumors, or menopause).\n",
      "- **Trauma or surgery**: Blood loss during or after surgery.\n",
      "- **Menstruation**: Heavy menstrual bleeding in women.\n",
      "\n",
      "#### **(b) Reduced Production of Red Blood Cells (RBCs)**\n",
      "- **Iron deficiency**: The most common cause of anemia. Iron is essential for hemoglobin production.\n",
      "  - **Iron deficiency**: Due to poor absorption, dietary deficiency, or blood loss.\n",
      "  - **Hemoglobin synthesis**: Lack of iron, vitamin B12, or folate.\n",
      "- **Aplastic anemia**: Bone marrow failure that prevents the production of enough RBCs, WBCs, and platelets.\n",
      "- **Chronic disease**: Conditions like kidney disease, cancer, or autoimmune disorders can damage the bone marrow.\n",
      "- **Genetic disorders**: Such as sickle cell anemia, thalassemia, or pernicious anemia (due to vitamin B12 deficiency).\n",
      "\n",
      "#### **(c) Increased Demand for Oxygen**\n",
      "- **Increased physical activity**: People who exercise more may have higher oxygen demands.\n",
      "- **High altitude**: At higher altitudes, the body requires more oxygen, leading to anemia.\n",
      "- **Infections or inflammation**: Conditions like sepsis or chronic inflammation can increase the body's need for oxygen.\n",
      "\n",
      "#### **(d) Other Causes**\n",
      "- **Vitamin B12 or folate deficiency**: These are essential for RBC production.\n",
      "- **Cancer**: Certain cancers can cause anemia (e.g., leukemia, lymphoma).\n",
      "- **Autoimmune diseases**: Like lupus or rheumatoid arthritis, which can attack RBCs.\n",
      "- **Medications**: Certain drugs (e.g., anticonvulsants, anti-inflammatory drugs) can cause anemia.\n",
      "- **Inherited disorders**: Such as sickle cell anemia, thalassemia, or hemoglobinopathies.\n"
     ]
    }
   ],
   "source": [
    "prompt = \"Give me the reason for anemia.\"\n",
    "messages = [{\"role\": \"user\", \"content\": prompt}]\n",
    "\n",
    "# Disable thinking mode\n",
    "text = tokenizer.apply_chat_template(\n",
    "    messages,\n",
    "    tokenize=False,\n",
    "    add_generation_prompt=True,\n",
    "    enable_thinking=False  # important: disable hidden reasoning\n",
    ")\n",
    "\n",
    "model_inputs = tokenizer([text], return_tensors=\"pt\").to(model.device)\n",
    "\n",
    "# Generate answer\n",
    "with torch.inference_mode():\n",
    "    generated_ids = model.generate(\n",
    "        **model_inputs,\n",
    "        max_new_tokens=512,\n",
    "        pad_token_id=tokenizer.eos_token_id\n",
    "    )\n",
    "\n",
    "# Decode only the answer\n",
    "answer = tokenizer.decode(\n",
    "    generated_ids[0][model_inputs.input_ids.shape[1]:],\n",
    "    skip_special_tokens=True\n",
    ").strip()\n",
    "\n",
    "print(answer)"
   ]
  },
  {
   "cell_type": "code",
   "execution_count": 7,
   "id": "18ce6e92",
   "metadata": {},
   "outputs": [],
   "source": [
    "save_dir = \"./qwen3-1.7B\"\n",
    "\n",
    "tokenizer.save_pretrained(save_dir)\n",
    "model.save_pretrained(save_dir)"
   ]
  }
 ],
 "metadata": {
  "kernelspec": {
   "display_name": "Python 3",
   "language": "python",
   "name": "python3"
  },
  "language_info": {
   "codemirror_mode": {
    "name": "ipython",
    "version": 3
   },
   "file_extension": ".py",
   "mimetype": "text/x-python",
   "name": "python",
   "nbconvert_exporter": "python",
   "pygments_lexer": "ipython3",
   "version": "3.9.6"
  }
 },
 "nbformat": 4,
 "nbformat_minor": 5
}
