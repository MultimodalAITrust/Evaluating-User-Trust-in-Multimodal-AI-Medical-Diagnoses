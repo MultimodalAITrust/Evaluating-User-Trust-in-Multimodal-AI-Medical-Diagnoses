{
 "cells": [
  {
   "cell_type": "code",
   "execution_count": 4,
   "id": "a363b6a2",
   "metadata": {},
   "outputs": [],
   "source": [
    "from transformers import AutoTokenizer, AutoModelForCausalLM\n",
    "\n",
    "tokenizer = AutoTokenizer.from_pretrained(\"microsoft/BioGPT-Large\")\n",
    "model = AutoModelForCausalLM.from_pretrained(\"microsoft/BioGPT-Large\")\n",
    "\n"
   ]
  },
  {
   "cell_type": "code",
   "execution_count": 4,
   "id": "42f8e57a",
   "metadata": {},
   "outputs": [],
   "source": [
    "import torch\n",
    "tokenizer.save_pretrained(\"./biogpt_tokenizer\")\n",
    "torch.save(model, \"./biogpt_model.pt\")"
   ]
  },
  {
   "cell_type": "code",
   "execution_count": 5,
   "id": "b8a7cf9a",
   "metadata": {},
   "outputs": [
    {
     "name": "stdout",
     "output_type": "stream",
     "text": [
      "Treatment options for a bruise include expectant management for 1-2 days or treatment with ice packs for 1 0-1 5 minutes. For those who fail initial treatment, a variety of modalities exist. Of these, low-level laser therapy (LLLT) is the most common\n"
     ]
    }
   ],
   "source": [
    "from transformers import AutoTokenizer\n",
    "import torch\n",
    "\n",
    "# Load tokenizer\n",
    "tokenizer = AutoTokenizer.from_pretrained(\"./biogpt_tokenizer\")\n",
    "\n",
    "# Load model\n",
    "model = torch.load(\"./biogpt_model.pt\", map_location=\"cpu\")  # or \"cuda\" if on GPU\n",
    "model.eval()\n",
    "prompt = \"Treatment options for a bruise include\"\n",
    "inputs = tokenizer(prompt, return_tensors=\"pt\")\n",
    "output = model.generate(**inputs, max_new_tokens=50, do_sample=True, temperature=0.7)\n",
    "\n",
    "print(tokenizer.decode(output[0], skip_special_tokens=True))\n"
   ]
  }
 ],
 "metadata": {
  "kernelspec": {
   "display_name": "Python 3",
   "language": "python",
   "name": "python3"
  },
  "language_info": {
   "codemirror_mode": {
    "name": "ipython",
    "version": 3
   },
   "file_extension": ".py",
   "mimetype": "text/x-python",
   "name": "python",
   "nbconvert_exporter": "python",
   "pygments_lexer": "ipython3",
   "version": "3.9.6"
  }
 },
 "nbformat": 4,
 "nbformat_minor": 5
}
