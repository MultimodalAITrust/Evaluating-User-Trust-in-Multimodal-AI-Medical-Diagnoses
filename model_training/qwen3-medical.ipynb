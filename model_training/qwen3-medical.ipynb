{
 "cells": [
  {
   "cell_type": "code",
   "execution_count": 2,
   "id": "506d6aac",
   "metadata": {},
   "outputs": [
    {
     "name": "stderr",
     "output_type": "stream",
     "text": [
      "Loading checkpoint shards: 100%|██████████| 2/2 [00:37<00:00, 18.59s/it]\n"
     ]
    }
   ],
   "source": [
    "import torch\n",
    "from transformers import AutoTokenizer, AutoModelForCausalLM\n",
    "\n",
    "model_id = \"lastmass/Qwen3_Medical_GRPO\"\n",
    "device = \"cpu\"  # force CPU to avoid MPS OOM\n",
    "dtype = torch.float32\n",
    "\n",
    "tok = AutoTokenizer.from_pretrained(model_id, trust_remote_code=True)\n",
    "model = AutoModelForCausalLM.from_pretrained(\n",
    "    model_id,\n",
    "    torch_dtype=dtype,\n",
    "    trust_remote_code=True,\n",
    ").to(device).eval()"
   ]
  },
  {
   "cell_type": "code",
   "execution_count": 3,
   "id": "63adacc2",
   "metadata": {},
   "outputs": [
    {
     "name": "stdout",
     "output_type": "stream",
     "text": [
      "Anemia is a condition where your body doesn't have enough healthy red blood cells to carry oxygen to your tissues. There are several reasons why this can happen. Let's break it down.\n",
      "\n",
      "First, let's talk about iron deficiency. Iron is crucial for making hemoglobin, the protein in red blood cells that carries oxygen. If you don't get enough iron, your body can't make enough hemoglobin, and that leads to anemia. Common causes of iron deficiency include not eating enough iron-rich foods, like red meat, beans, and leafy greens, or having a condition that makes it hard for your body to absorb iron,\n"
     ]
    }
   ],
   "source": [
    "\n",
    "messages = [\n",
    "    {\"role\": \"system\", \"content\": \"You are a helpful medical assistant. Always respond in English.\"},\n",
    "    {\"role\": \"user\", \"content\": \"What causes anemia?\"}\n",
    "]\n",
    "text = tok.apply_chat_template(messages, tokenize=False, add_generation_prompt=True, enable_thinking=False)\n",
    "inputs = tok([text], return_tensors=\"pt\")\n",
    "\n",
    "with torch.inference_mode():\n",
    "    out = model.generate(**inputs, max_new_tokens=128, pad_token_id=tok.eos_token_id, use_cache=False)\n",
    "\n",
    "print(tok.decode(out[0][inputs.input_ids.shape[1]:], skip_special_tokens=True).strip())\n"
   ]
  },
  {
   "cell_type": "code",
   "execution_count": 4,
   "id": "a8fe46d5",
   "metadata": {},
   "outputs": [],
   "source": [
    "save_dir = \"./qwen3-medical\"\n",
    "\n",
    "tok.save_pretrained(save_dir)\n",
    "model.save_pretrained(save_dir)"
   ]
  }
 ],
 "metadata": {
  "kernelspec": {
   "display_name": "Python 3",
   "language": "python",
   "name": "python3"
  },
  "language_info": {
   "codemirror_mode": {
    "name": "ipython",
    "version": 3
   },
   "file_extension": ".py",
   "mimetype": "text/x-python",
   "name": "python",
   "nbconvert_exporter": "python",
   "pygments_lexer": "ipython3",
   "version": "3.9.6"
  }
 },
 "nbformat": 4,
 "nbformat_minor": 5
}
